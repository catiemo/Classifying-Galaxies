{
 "cells": [
  {
   "cell_type": "code",
   "execution_count": null,
   "id": "bd4b5349",
   "metadata": {},
   "outputs": [],
   "source": [
    "import tensorflow as tf\n",
    "from tensorflow.keras.preprocessing.image import ImageDataGenerator\n",
    "\n",
    "from sklearn.model_selection import train_test_split\n",
    "from utils import load_galaxy_data\n",
    "\n",
    "import app\n",
    "\n",
    "\n",
    "input_data, labels = load_galaxy_data()\n",
    "print(input_data.shape)\n",
    "print(labels.shape)\n",
    "\n",
    "x_train, x_test, y_train, y_test = train_test_split(input_data, labels, test_size = 0.2, random_state = 222, stratify = labels, shuffle = True)\n",
    "\n",
    "data_gen = ImageDataGenerator(rescale = 1./255)\n",
    "data_gen_iterator = data_gen.flow(x_train, y_train, batch_size = 5)\n",
    "test_gen_iterator = data_gen.flow(x_test, y_test, batch_size = 5)\n",
    "\n",
    "model = tf.keras.Sequential()\n",
    "model.add(tf.keras.Input(shape = (128, 128, 3)))\n",
    "model.add(tf.keras.layers.Conv2D(8, 3, strides = 2, activation = 'relu'))\n",
    "model.add(tf.keras.layers.MaxPooling2D(pool_size = (2,2), strides = (2,2)))\n",
    "model.add(tf.keras.layers.Conv2D(8, 3, strides = 2, activation = 'relu'))\n",
    "model.add(tf.keras.layers.MaxPooling2D(pool_size = (2,2), strides = (2,2)))\n",
    "model.add(tf.keras.layers.Flatten())\n",
    "model.add(tf.keras.layers.Dense(16, activation = 'relu'))\n",
    "model.add(tf.keras.layers.Dense(4, activation = 'softmax'))\n",
    "model.compile(optimizer = tf.keras.optimizers.Adam(learning_rate = 0.001), loss = tf.keras.losses.CategoricalCrossentropy(), metrics = [tf.keras.metrics.CategoricalAccuracy()])\n",
    "\n",
    "model.summary()\n",
    "\n",
    "model.fit(data_gen_iterator, steps_per_epoch = len(x_train) / 5, validation_data = test_gen_iterator, validation_steps = len(x_test) / 5, epochs = 8)\n",
    "\n",
    "from visualize import visualize_activations\n",
    "visualize_activations(model,test_gen_iterator)"
   ]
  }
 ],
 "metadata": {
  "kernelspec": {
   "display_name": "Python 3",
   "language": "python",
   "name": "python3"
  },
  "language_info": {
   "codemirror_mode": {
    "name": "ipython",
    "version": 3
   },
   "file_extension": ".py",
   "mimetype": "text/x-python",
   "name": "python",
   "nbconvert_exporter": "python",
   "pygments_lexer": "ipython3",
   "version": "3.8.8"
  }
 },
 "nbformat": 4,
 "nbformat_minor": 5
}
